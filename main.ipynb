{
 "cells": [
  {
   "cell_type": "code",
   "execution_count": 1,
   "metadata": {},
   "outputs": [],
   "source": [
    "from Helper import * \n",
    "import boto3\n",
    "\n",
    "class S3Bucket(object):\n",
    "    def __init__(self, bucket_name):\n",
    "        self.config = Helper.read_config()\n",
    "        self.aws_secret_access_key = self.config[Config.credentials][Config.aws_secret_access_key]\n",
    "        self.aws_access_key_id = self.config[Config.credentials][Config.aws_access_key_id]\n",
    "        self.region_name = self.config[Config.credentials][Config.region_name]\n",
    "        self.bucket_name = bucket_name\n",
    "        \n",
    "    def aws_connection(self):\n",
    "        # create S3 Client\n",
    "        self.s3_client = boto3.client('s3', aws_access_key_id=self.aws_access_key_id,\n",
    "                                      aws_secret_access_key=self.aws_secret_access_key,\n",
    "                                      region_name=self.region_name)\n",
    "\n",
    "        # create S3 Resource\n",
    "        self.s3_resource = boto3.resource('s3', aws_access_key_id=self.aws_access_key_id,\n",
    "                                        aws_secret_access_key=self.aws_secret_access_key,\n",
    "                                        region_name=self.region_name)\n",
    "        \n",
    "    def get_s3_keys(self):\n",
    "        \"\"\"Get a list of keys (files) in an S3 bucket.\"\"\"\n",
    "        keys = []\n",
    "        resp = self.s3_client.list_objects_v2(Bucket=self.bucket_name)\n",
    "        for obj in resp['Contents']:\n",
    "            keys.append(obj['Key'])\n",
    "        return keys     \n",
    "\n",
    "    def download_s3_files(self, keys):\n",
    "        \"\"\"Downlaod the keys (files) from the S3 Bucket.\"\"\"\n",
    "        for key in keys:\n",
    "            filename = key\n",
    "            self.s3_resource.Bucket(self.bucket_name).download_file(key, filename)"
   ]
  },
  {
   "cell_type": "markdown",
   "metadata": {},
   "source": [
    "#### Create connection with the S3 Bucket"
   ]
  },
  {
   "cell_type": "code",
   "execution_count": 2,
   "metadata": {},
   "outputs": [],
   "source": [
    "# Provide S3 Bucket name\n",
    "bucket_name = 'your-s3-bucket-name'\n",
    "s3_obj = S3Bucket(bucket_name)\n",
    "\n",
    "# Create the aws S3 connection. \n",
    "s3_connection = s3_obj.aws_connection()"
   ]
  },
  {
   "cell_type": "markdown",
   "metadata": {},
   "source": [
    "#### Download the list of keys (files) stored in the given S3 Bucket "
   ]
  },
  {
   "cell_type": "code",
   "execution_count": 3,
   "metadata": {},
   "outputs": [],
   "source": [
    "bucket_keys = s3_obj.get_s3_keys()\n",
    "# for key in bucket_keys:\n",
    "#     print(key)"
   ]
  },
  {
   "cell_type": "markdown",
   "metadata": {},
   "source": [
    "#### Downlaod the files from the S3 Bucket "
   ]
  },
  {
   "cell_type": "code",
   "execution_count": 4,
   "metadata": {},
   "outputs": [],
   "source": [
    "s3_obj.download_s3_files(bucket_keys)"
   ]
  }
 ],
 "metadata": {
  "kernelspec": {
   "display_name": "Python 3",
   "language": "python",
   "name": "python3"
  },
  "language_info": {
   "codemirror_mode": {
    "name": "ipython",
    "version": 3
   },
   "file_extension": ".py",
   "mimetype": "text/x-python",
   "name": "python",
   "nbconvert_exporter": "python",
   "pygments_lexer": "ipython3",
   "version": "3.8.5"
  }
 },
 "nbformat": 4,
 "nbformat_minor": 4
}
