{
 "cells": [
  {
   "cell_type": "code",
   "execution_count": null,
   "metadata": {},
   "outputs": [],
   "source": [
    "import boto3\n",
    "import json"
   ]
  },
  {
   "cell_type": "code",
   "execution_count": null,
   "metadata": {},
   "outputs": [],
   "source": [
    "with open('config.txt', 'r') as json_file:\n",
    "    credentials = json.load(json_file)\n",
    "\n",
    "region = credentials['region_name']\n",
    "aws_access_key = credentials['aws_access_key_id']\n",
    "aws_secret_key = credentials['aws_secret_access_key']\n",
    "\n",
    "bucket_name = ''"
   ]
  },
  {
   "cell_type": "code",
   "execution_count": null,
   "metadata": {},
   "outputs": [],
   "source": [
    "# create S3 Client\n",
    "s3_client = boto3.client('s3', aws_access_key_id=aws_access_key,\n",
    "                         aws_secret_access_key=aws_secret_key,\n",
    "                         region_name=region)\n",
    "\n",
    "# create S3 Resource\n",
    "s3_resource = boto3.resource('s3', aws_access_key_id=aws_access_key,\n",
    "                             aws_secret_access_key=aws_secret_key,\n",
    "                             region_name=region)"
   ]
  },
  {
   "cell_type": "code",
   "execution_count": null,
   "metadata": {},
   "outputs": [],
   "source": [
    "keys = []\n",
    "resp = s3_client.list_objects_v2(Bucket=bucket_name)\n",
    "for obj in resp['Contents']:\n",
    "    keys.append(obj['Key'])\n",
    "print(keys)"
   ]
  },
  {
   "cell_type": "code",
   "execution_count": null,
   "metadata": {},
   "outputs": [],
   "source": [
    "for key in keys:\n",
    "    filename = key\n",
    "    s3_resource.Bucket(bucket_name).download_file(key, filename)\n",
    "print('All files has successfully downloaded')\n"
   ]
  }
 ],
 "metadata": {
  "kernelspec": {
   "display_name": "Python 3",
   "language": "python",
   "name": "python3"
  },
  "language_info": {
   "codemirror_mode": {
    "name": "ipython",
    "version": 3
   },
   "file_extension": ".py",
   "mimetype": "text/x-python",
   "name": "python",
   "nbconvert_exporter": "python",
   "pygments_lexer": "ipython3",
   "version": "3.8.5"
  }
 },
 "nbformat": 4,
 "nbformat_minor": 4
}
