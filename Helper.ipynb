{
 "cells": [
  {
   "cell_type": "code",
   "execution_count": 7,
   "metadata": {},
   "outputs": [],
   "source": [
    "import demjson\n",
    "\n",
    "\n",
    "class Config:\n",
    "    credentials = 'credentials'\n",
    "    aws_access_key_id = 'aws_access_key_id'\n",
    "    aws_secret_access_key = 'aws_secret_access_key'\n",
    "    region_name = 'region_name'\n",
    "\n",
    "\n",
    "class Helper:\n",
    "    @staticmethod\n",
    "    def read_config():\n",
    "        config = {}\n",
    "        try:\n",
    "            with open('./config.json') as f:\n",
    "\n",
    "                config = demjson.decode(f.read())\n",
    "                print(config)\n",
    "\n",
    "        except FileNotFoundError as e:\n",
    "            print(e)\n",
    "            print(\"Config Not found\")\n",
    "            exit(0)\n",
    "        return config"
   ]
  },
  {
   "cell_type": "code",
   "execution_count": 14,
   "metadata": {},
   "outputs": [
    {
     "name": "stdout",
     "output_type": "stream",
     "text": [
      "region_name\n"
     ]
    }
   ],
   "source": [
    "from Helper import *\n",
    "region = Config.region_name\n",
    "print(region)"
   ]
  },
  {
   "cell_type": "code",
   "execution_count": null,
   "metadata": {},
   "outputs": [],
   "source": []
  }
 ],
 "metadata": {
  "kernelspec": {
   "display_name": "Python 3",
   "language": "python",
   "name": "python3"
  },
  "language_info": {
   "codemirror_mode": {
    "name": "ipython",
    "version": 3
   },
   "file_extension": ".py",
   "mimetype": "text/x-python",
   "name": "python",
   "nbconvert_exporter": "python",
   "pygments_lexer": "ipython3",
   "version": "3.8.5"
  }
 },
 "nbformat": 4,
 "nbformat_minor": 4
}
